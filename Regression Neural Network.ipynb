{
 "cells": [
  {
   "cell_type": "code",
   "execution_count": 1,
   "id": "b900a152",
   "metadata": {},
   "outputs": [],
   "source": [
    "import pandas as pd\n",
    "import numpy as np\n",
    "from sklearn import metrics\n",
    "from sklearn.model_selection import train_test_split\n",
    "from sklearn.preprocessing import LabelEncoder\n",
    "import matplotlib.pyplot as plt\n",
    "from tensorflow.keras.models import Sequential\n",
    "from tensorflow.keras.layers import Dense"
   ]
  },
  {
   "cell_type": "code",
   "execution_count": 2,
   "id": "449376d2",
   "metadata": {},
   "outputs": [],
   "source": [
    "pd.set_option('display.max_rows', 50)\n",
    "pd.set_option('display.max_columns', 500)\n",
    "pd.set_option('display.width', 1000)"
   ]
  },
  {
   "cell_type": "code",
   "execution_count": 3,
   "id": "6f105b94",
   "metadata": {},
   "outputs": [],
   "source": [
    "df =  pd.read_csv('C:/Users/farha/Desktop/uni stage 3/Introduction to AI/COURSEWORK/Github/intro-to-ai-farhan-labi/covid_19_indonesia_time_series_all.csv')"
   ]
  },
  {
   "cell_type": "code",
   "execution_count": 4,
   "id": "5ff83132",
   "metadata": {},
   "outputs": [],
   "source": [
    "df_regression = df.copy()"
   ]
  },
  {
   "cell_type": "code",
   "execution_count": 5,
   "id": "4b3a56e9",
   "metadata": {},
   "outputs": [],
   "source": [
    "#For the NA values that are in int columns, fill them with medians \n",
    "med_gf_nc = df_regression['Growth Factor of New Cases'].median()\n",
    "med_gf_nd = df_regression['Growth Factor of New Deaths'].median()\n",
    "med_tot_uv = df_regression['Total Urban Villages'].median()\n",
    "med_tot_rv = df_regression['Total Rural Villages'].median()\n",
    "med_tot_c = df_regression['Total Cities'].median()\n",
    "\n",
    "df_regression['Growth Factor of New Cases'] = df_regression['Growth Factor of New Cases'].fillna(med_gf_nc)\n",
    "\n",
    "df_regression['Growth Factor of New Deaths'] = df_regression['Growth Factor of New Deaths'].fillna(med_gf_nd)\n",
    "\n",
    "df_regression['Total Urban Villages'] = df_regression['Total Urban Villages'].fillna(med_tot_uv)\n",
    "\n",
    "df_regression['Total Rural Villages'] = df_regression['Total Rural Villages'].fillna(med_tot_rv)\n",
    "\n",
    "df_regression['Total Cities'] = df_regression['Total Cities'].fillna(med_tot_c)"
   ]
  },
  {
   "cell_type": "code",
   "execution_count": 6,
   "id": "ec7eeec7",
   "metadata": {},
   "outputs": [],
   "source": [
    "#We can drop the columns: City or Regency, Province, Island, Time Zone, Special Status.\n",
    "#This is because we already have Location and Location ISO code, for the whole of Indonesia\n",
    "df_regression = df_regression.drop(columns=['City or Regency', 'Province', 'Island', 'Time Zone', 'Special Status'])"
   ]
  },
  {
   "cell_type": "code",
   "execution_count": 10,
   "id": "2fb1199e",
   "metadata": {},
   "outputs": [],
   "source": [
    "#Now we have to encode variables since there are Date and String data types\n",
    "#.astype(str).apply(le.fit_transform)\n",
    "for column in df_regression.columns:\n",
    "    df_regression[column] = LabelEncoder().fit(df_regression[column]).transform(df_regression[column])"
   ]
  },
  {
   "cell_type": "code",
   "execution_count": 50,
   "id": "2e32d41d",
   "metadata": {},
   "outputs": [],
   "source": [
    "# Convert a Pandas dataframe to the X,y inputs that Keras needs\n",
    "def to_xy(df, target):\n",
    "    result = []\n",
    "    for x in df.columns:\n",
    "        if x != target:\n",
    "            result.append(x)\n",
    "    # find out the type of the target column.  Is it really this hard? :(\n",
    "    target_type = df[target].dtypes\n",
    "    target_type = target_type[0] if hasattr(\n",
    "        target_type, '__iter__') else target_type\n",
    "    # Encode to int for classification, float otherwise. TensorFlow likes 32 bits.\n",
    "    if target_type in (np.int64, np.int32):\n",
    "        # Regression\n",
    "        return df[result].values.astype(np.float32), df[[target]].values.astype(np.float32)"
   ]
  },
  {
   "cell_type": "code",
   "execution_count": 51,
   "id": "ecf7f883",
   "metadata": {},
   "outputs": [],
   "source": [
    "X,y = to_xy(df_regression, 'New Active Cases')\n",
    "X_train, X_test, y_train, y_test = train_test_split(X, y, test_size=0.25, random_state=0)"
   ]
  },
  {
   "cell_type": "code",
   "execution_count": 53,
   "id": "6adb0e4d",
   "metadata": {},
   "outputs": [],
   "source": [
    "model = Sequential()\n",
    "model.add(Dense(64, input_shape=X[1].shape, activation='relu')) # Hidden 1\n",
    "model.add(Dense(64,activation='relu')) #Hidden 2\n",
    "model.add(Dense(1)) # Output"
   ]
  },
  {
   "cell_type": "code",
   "execution_count": null,
   "id": "3c73eb76",
   "metadata": {
    "scrolled": true
   },
   "outputs": [
    {
     "name": "stdout",
     "output_type": "stream",
     "text": [
      "Epoch 1/150\n",
      "510/510 - 0s - loss: 3313.0588\n",
      "Epoch 2/150\n",
      "510/510 - 0s - loss: 1943.5004\n",
      "Epoch 3/150\n",
      "510/510 - 0s - loss: 2184.0186\n",
      "Epoch 4/150\n",
      "510/510 - 0s - loss: 2221.4561\n",
      "Epoch 5/150\n",
      "510/510 - 0s - loss: 2282.7454\n",
      "Epoch 6/150\n",
      "510/510 - 0s - loss: 3432.3726\n",
      "Epoch 7/150\n",
      "510/510 - 0s - loss: 2346.6819\n",
      "Epoch 8/150\n",
      "510/510 - 0s - loss: 2411.2336\n",
      "Epoch 9/150\n",
      "510/510 - 0s - loss: 2360.3257\n",
      "Epoch 10/150\n",
      "510/510 - 0s - loss: 1989.2917\n",
      "Epoch 11/150\n",
      "510/510 - 0s - loss: 2385.8728\n",
      "Epoch 12/150\n",
      "510/510 - 0s - loss: 2850.2881\n",
      "Epoch 13/150\n",
      "510/510 - 0s - loss: 2179.9468\n",
      "Epoch 14/150\n",
      "510/510 - 0s - loss: 2018.8683\n",
      "Epoch 15/150\n",
      "510/510 - 0s - loss: 2169.5403\n",
      "Epoch 16/150\n",
      "510/510 - 0s - loss: 2085.3296\n",
      "Epoch 17/150\n",
      "510/510 - 0s - loss: 1826.3994\n",
      "Epoch 18/150\n",
      "510/510 - 0s - loss: 2164.5369\n",
      "Epoch 19/150\n",
      "510/510 - 0s - loss: 2210.3059\n",
      "Epoch 20/150\n",
      "510/510 - 0s - loss: 2803.5659\n",
      "Epoch 21/150\n",
      "510/510 - 0s - loss: 2002.1967\n",
      "Epoch 22/150\n",
      "510/510 - 0s - loss: 2451.1438\n",
      "Epoch 23/150\n",
      "510/510 - 0s - loss: 2279.6050\n",
      "Epoch 24/150\n",
      "510/510 - 0s - loss: 2255.9753\n",
      "Epoch 25/150\n",
      "510/510 - 0s - loss: 1826.0496\n",
      "Epoch 26/150\n",
      "510/510 - 0s - loss: 2848.9341\n",
      "Epoch 27/150\n",
      "510/510 - 0s - loss: 2395.9321\n",
      "Epoch 28/150\n",
      "510/510 - 0s - loss: 1822.5096\n",
      "Epoch 29/150\n",
      "510/510 - 0s - loss: 2035.5320\n",
      "Epoch 30/150\n",
      "510/510 - 0s - loss: 1990.1808\n",
      "Epoch 31/150\n",
      "510/510 - 0s - loss: 2278.4233\n",
      "Epoch 32/150\n",
      "510/510 - 0s - loss: 1762.6912\n",
      "Epoch 33/150\n",
      "510/510 - 0s - loss: 1816.2698\n",
      "Epoch 34/150\n",
      "510/510 - 0s - loss: 3146.9836\n",
      "Epoch 35/150\n",
      "510/510 - 0s - loss: 1872.4757\n",
      "Epoch 36/150\n",
      "510/510 - 0s - loss: 1686.5516\n",
      "Epoch 37/150\n",
      "510/510 - 0s - loss: 2327.0618\n",
      "Epoch 38/150\n",
      "510/510 - 0s - loss: 2840.8848\n",
      "Epoch 39/150\n",
      "510/510 - 0s - loss: 2003.7695\n",
      "Epoch 40/150\n",
      "510/510 - 0s - loss: 2300.0466\n",
      "Epoch 41/150\n",
      "510/510 - 0s - loss: 2484.6018\n",
      "Epoch 42/150\n",
      "510/510 - 0s - loss: 1628.5957\n",
      "Epoch 43/150\n",
      "510/510 - 0s - loss: 2111.4133\n",
      "Epoch 44/150\n",
      "510/510 - 0s - loss: 2439.0574\n",
      "Epoch 45/150\n",
      "510/510 - 0s - loss: 2105.6450\n",
      "Epoch 46/150\n",
      "510/510 - 0s - loss: 1921.2994\n",
      "Epoch 47/150\n",
      "510/510 - 0s - loss: 2483.5312\n",
      "Epoch 48/150\n",
      "510/510 - 0s - loss: 2011.1598\n",
      "Epoch 49/150\n",
      "510/510 - 0s - loss: 2170.2468\n",
      "Epoch 50/150\n",
      "510/510 - 0s - loss: 2314.0518\n",
      "Epoch 51/150\n",
      "510/510 - 0s - loss: 1951.6951\n",
      "Epoch 52/150\n",
      "510/510 - 0s - loss: 1611.8773\n",
      "Epoch 53/150\n",
      "510/510 - 0s - loss: 2600.4448\n",
      "Epoch 54/150\n",
      "510/510 - 0s - loss: 1871.1125\n",
      "Epoch 55/150\n",
      "510/510 - 0s - loss: 1966.4756\n",
      "Epoch 56/150\n",
      "510/510 - 0s - loss: 1935.9242\n",
      "Epoch 57/150\n",
      "510/510 - 0s - loss: 1644.9047\n",
      "Epoch 58/150\n",
      "510/510 - 0s - loss: 2007.5414\n",
      "Epoch 59/150\n",
      "510/510 - 0s - loss: 2064.9080\n",
      "Epoch 60/150\n",
      "510/510 - 0s - loss: 2467.9548\n",
      "Epoch 61/150\n",
      "510/510 - 0s - loss: 2040.1144\n",
      "Epoch 62/150\n",
      "510/510 - 0s - loss: 2819.5574\n",
      "Epoch 63/150\n",
      "510/510 - 0s - loss: 1895.0975\n",
      "Epoch 64/150\n",
      "510/510 - 0s - loss: 2131.6035\n",
      "Epoch 65/150\n",
      "510/510 - 0s - loss: 2157.4219\n",
      "Epoch 66/150\n",
      "510/510 - 0s - loss: 1502.0398\n",
      "Epoch 67/150\n",
      "510/510 - 0s - loss: 2193.1716\n",
      "Epoch 68/150\n",
      "510/510 - 0s - loss: 1919.9933\n",
      "Epoch 69/150\n",
      "510/510 - 0s - loss: 2399.5896\n",
      "Epoch 70/150\n",
      "510/510 - 0s - loss: 1898.7977\n",
      "Epoch 71/150\n",
      "510/510 - 0s - loss: 2287.1414\n",
      "Epoch 72/150\n",
      "510/510 - 0s - loss: 1568.0347\n",
      "Epoch 73/150\n",
      "510/510 - 0s - loss: 2600.6204\n",
      "Epoch 74/150\n",
      "510/510 - 0s - loss: 2132.2112\n",
      "Epoch 75/150\n",
      "510/510 - 0s - loss: 1712.2959\n",
      "Epoch 76/150\n",
      "510/510 - 0s - loss: 2812.2725\n",
      "Epoch 77/150\n",
      "510/510 - 0s - loss: 1443.3145\n",
      "Epoch 78/150\n",
      "510/510 - 0s - loss: 2355.0151\n",
      "Epoch 79/150\n",
      "510/510 - 0s - loss: 2215.4194\n",
      "Epoch 80/150\n",
      "510/510 - 0s - loss: 1636.8553\n",
      "Epoch 81/150\n",
      "510/510 - 0s - loss: 2297.8323\n",
      "Epoch 82/150\n",
      "510/510 - 0s - loss: 1894.6484\n",
      "Epoch 83/150\n",
      "510/510 - 0s - loss: 1921.9608\n",
      "Epoch 84/150\n",
      "510/510 - 0s - loss: 2077.2822\n",
      "Epoch 85/150\n",
      "510/510 - 0s - loss: 1641.9900\n",
      "Epoch 86/150\n",
      "510/510 - 0s - loss: 2774.0369\n",
      "Epoch 87/150\n",
      "510/510 - 0s - loss: 2157.1079\n",
      "Epoch 88/150\n",
      "510/510 - 0s - loss: 2466.7971\n",
      "Epoch 89/150\n",
      "510/510 - 0s - loss: 2386.8596\n",
      "Epoch 90/150\n",
      "510/510 - 0s - loss: 2036.8091\n",
      "Epoch 91/150\n",
      "510/510 - 0s - loss: 1643.1885\n",
      "Epoch 92/150\n",
      "510/510 - 0s - loss: 1516.4111\n",
      "Epoch 93/150\n",
      "510/510 - 0s - loss: 2256.8501\n",
      "Epoch 94/150\n",
      "510/510 - 0s - loss: 3114.2354\n",
      "Epoch 95/150\n",
      "510/510 - 0s - loss: 1843.5624\n",
      "Epoch 96/150\n",
      "510/510 - 0s - loss: 2303.0435\n",
      "Epoch 97/150\n",
      "510/510 - 0s - loss: 1808.0736\n",
      "Epoch 98/150\n",
      "510/510 - 0s - loss: 2181.7964\n",
      "Epoch 99/150\n",
      "510/510 - 0s - loss: 2476.3159\n",
      "Epoch 100/150\n",
      "510/510 - 0s - loss: 1770.8230\n",
      "Epoch 101/150\n",
      "510/510 - 0s - loss: 2059.9221\n",
      "Epoch 102/150\n",
      "510/510 - 0s - loss: 1695.2408\n",
      "Epoch 103/150\n",
      "510/510 - 0s - loss: 2147.0803\n",
      "Epoch 104/150\n",
      "510/510 - 0s - loss: 1964.8854\n",
      "Epoch 105/150\n",
      "510/510 - 0s - loss: 2678.6201\n",
      "Epoch 106/150\n",
      "510/510 - 0s - loss: 1575.4834\n",
      "Epoch 107/150\n",
      "510/510 - 0s - loss: 2476.7205\n",
      "Epoch 108/150\n",
      "510/510 - 0s - loss: 1679.5525\n",
      "Epoch 109/150\n",
      "510/510 - 0s - loss: 1589.5221\n",
      "Epoch 110/150\n",
      "510/510 - 0s - loss: 2710.4587\n",
      "Epoch 111/150\n",
      "510/510 - 0s - loss: 1618.9652\n",
      "Epoch 112/150\n",
      "510/510 - 0s - loss: 2179.7061\n",
      "Epoch 113/150\n",
      "510/510 - 0s - loss: 2108.6379\n",
      "Epoch 114/150\n",
      "510/510 - 0s - loss: 2621.4639\n",
      "Epoch 115/150\n",
      "510/510 - 0s - loss: 1693.1683\n",
      "Epoch 116/150\n",
      "510/510 - 0s - loss: 2187.5417\n",
      "Epoch 117/150\n",
      "510/510 - 0s - loss: 1994.1631\n"
     ]
    }
   ],
   "source": [
    "model.compile(loss='mean_squared_error', optimizer='adam')\n",
    "model.fit(X_train,y_train,verbose=2,epochs=150)\n",
    "model.summary()"
   ]
  },
  {
   "cell_type": "code",
   "execution_count": 59,
   "id": "af921a3b",
   "metadata": {},
   "outputs": [
    {
     "name": "stdout",
     "output_type": "stream",
     "text": [
      "Shape: (5440, 1)\n",
      "Shape: (5440, 1)\n"
     ]
    }
   ],
   "source": [
    "y_pred = model.predict(X_test)\n",
    "print(\"Shape: {}\".format(y_pred.shape))\n",
    "print(\"Shape: {}\".format(y_test.shape))"
   ]
  },
  {
   "cell_type": "code",
   "execution_count": 60,
   "id": "600c73a6",
   "metadata": {},
   "outputs": [],
   "source": [
    "#Figured out the problem to the shape of ytest and ypred being different. It was trying to perform classification\n",
    "#Rather than regression in the toxy function\n",
    "#However the metrics have gotten drastically worse\n",
    "#Will try to find an alternate solution"
   ]
  },
  {
   "cell_type": "code",
   "execution_count": 67,
   "id": "32e6cbb2",
   "metadata": {},
   "outputs": [
    {
     "name": "stdout",
     "output_type": "stream",
     "text": [
      "final RMSE = 41.239845\n"
     ]
    }
   ],
   "source": [
    "print(\"final RMSE =\", np.sqrt(metrics.mean_squared_error(y_test, y_pred)))"
   ]
  },
  {
   "cell_type": "code",
   "execution_count": 62,
   "id": "7316dd64",
   "metadata": {},
   "outputs": [],
   "source": [
    "#Look at ytest and ypred\n",
    "#Possibility, it could have done one hot encryption on a number of integers)\n",
    "#Perhaps turn integers into floats"
   ]
  },
  {
   "cell_type": "code",
   "execution_count": 63,
   "id": "f34fb056",
   "metadata": {},
   "outputs": [
    {
     "name": "stdout",
     "output_type": "stream",
     "text": [
      "float32\n",
      "float32\n",
      "float32\n",
      "float32\n"
     ]
    }
   ],
   "source": [
    "#Check type of x,y for debug\n",
    "print(X_test.dtype)\n",
    "print(X_train.dtype)\n",
    "print(y_train.dtype)\n",
    "print(y_test.dtype)"
   ]
  }
 ],
 "metadata": {
  "kernelspec": {
   "display_name": "Python 3",
   "language": "python",
   "name": "python3"
  },
  "language_info": {
   "codemirror_mode": {
    "name": "ipython",
    "version": 3
   },
   "file_extension": ".py",
   "mimetype": "text/x-python",
   "name": "python",
   "nbconvert_exporter": "python",
   "pygments_lexer": "ipython3",
   "version": "3.8.8"
  }
 },
 "nbformat": 4,
 "nbformat_minor": 5
}
