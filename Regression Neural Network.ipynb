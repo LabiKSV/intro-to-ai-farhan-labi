{
 "cells": [
  {
   "cell_type": "code",
   "execution_count": 1,
   "id": "b900a152",
   "metadata": {},
   "outputs": [],
   "source": [
    "import pandas as pd\n",
    "import numpy as np\n",
    "from sklearn import metrics\n",
    "from sklearn.model_selection import train_test_split\n",
    "from sklearn.preprocessing import LabelEncoder\n",
    "import matplotlib.pyplot as plt\n",
    "from tensorflow.keras.models import Sequential\n",
    "from tensorflow.keras.layers import Dense"
   ]
  },
  {
   "cell_type": "code",
   "execution_count": 2,
   "id": "449376d2",
   "metadata": {},
   "outputs": [],
   "source": [
    "pd.set_option('display.max_rows', 50)\n",
    "pd.set_option('display.max_columns', 500)\n",
    "pd.set_option('display.width', 1000)"
   ]
  },
  {
   "cell_type": "code",
   "execution_count": 3,
   "id": "6f105b94",
   "metadata": {},
   "outputs": [],
   "source": [
    "df =  pd.read_csv('C:/Users/farha/Desktop/uni stage 3/Introduction to AI/COURSEWORK/Github/intro-to-ai-farhan-labi/covid_19_indonesia_time_series_all.csv')"
   ]
  },
  {
   "cell_type": "code",
   "execution_count": 4,
   "id": "5ff83132",
   "metadata": {},
   "outputs": [],
   "source": [
    "df_regression = df.copy()"
   ]
  },
  {
   "cell_type": "code",
   "execution_count": 5,
   "id": "4b3a56e9",
   "metadata": {},
   "outputs": [],
   "source": [
    "#For the NA values that are in int columns, fill them with medians \n",
    "med_gf_nc = df_regression['Growth Factor of New Cases'].median()\n",
    "med_gf_nd = df_regression['Growth Factor of New Deaths'].median()\n",
    "med_tot_uv = df_regression['Total Urban Villages'].median()\n",
    "med_tot_rv = df_regression['Total Rural Villages'].median()\n",
    "med_tot_c = df_regression['Total Cities'].median()\n",
    "\n",
    "df_regression['Growth Factor of New Cases'] = df_regression['Growth Factor of New Cases'].fillna(med_gf_nc)\n",
    "\n",
    "df_regression['Growth Factor of New Deaths'] = df_regression['Growth Factor of New Deaths'].fillna(med_gf_nd)\n",
    "\n",
    "df_regression['Total Urban Villages'] = df_regression['Total Urban Villages'].fillna(med_tot_uv)\n",
    "\n",
    "df_regression['Total Rural Villages'] = df_regression['Total Rural Villages'].fillna(med_tot_rv)\n",
    "\n",
    "df_regression['Total Cities'] = df_regression['Total Cities'].fillna(med_tot_c)"
   ]
  },
  {
   "cell_type": "code",
   "execution_count": 6,
   "id": "ec7eeec7",
   "metadata": {},
   "outputs": [],
   "source": [
    "#We can drop the columns: City or Regency, Province, Island, Time Zone, Special Status.\n",
    "#This is because we already have Location and Location ISO code, for the whole of Indonesia\n",
    "df_regression = df_regression.drop(columns=['City or Regency', 'Province', 'Island', 'Time Zone', 'Special Status'])"
   ]
  },
  {
   "cell_type": "code",
   "execution_count": 7,
   "id": "2fb1199e",
   "metadata": {},
   "outputs": [],
   "source": [
    "#Now we have to encode variables since there are Date and String data types\n",
    "#.astype(str).apply(le.fit_transform)\n",
    "for column in df_regression.columns:\n",
    "    df_regression[column] = LabelEncoder().fit(df_regression[column]).transform(df_regression[column])"
   ]
  },
  {
   "cell_type": "code",
   "execution_count": 8,
   "id": "2e32d41d",
   "metadata": {},
   "outputs": [],
   "source": [
    "def to_xy(df, target):\n",
    "    result = []\n",
    "    for x in df.columns:\n",
    "        if x != target:\n",
    "            result.append(x)\n",
    "    # find out the type of the target column.  Is it really this hard? :(\n",
    "    target_type = df[target].dtypes\n",
    "    target_type = target_type[0] if hasattr(\n",
    "        target_type, '__iter__') else target_type\n",
    "    # Encode to int for classification, float otherwise. TensorFlow likes 32 bits.\n",
    "    if target_type in (np.int64, np.int32):\n",
    "        # Classification\n",
    "        dummies = pd.get_dummies(df[target])\n",
    "        return df[result].values.astype(np.float32), dummies.values.astype(np.float32)\n",
    "    # Regression\n",
    "    return df[result].values.astype(np.float32), df[[target]].values.astype(np.float32)"
   ]
  },
  {
   "cell_type": "code",
   "execution_count": 10,
   "id": "ecf7f883",
   "metadata": {},
   "outputs": [],
   "source": [
    "X,y = to_xy(df_regression, 'New Active Cases')\n",
    "X_train, X_test, y_train, y_test = train_test_split(X, y, test_size=0.25, random_state=0)"
   ]
  },
  {
   "cell_type": "code",
   "execution_count": 11,
   "id": "6adb0e4d",
   "metadata": {},
   "outputs": [],
   "source": [
    "model = Sequential()\n",
    "model.add(Dense(64, input_shape=X[1].shape, activation='relu')) # Hidden 1\n",
    "model.add(Dense(64,activation='relu')) #Hidden 2\n",
    "model.add(Dense(1958)) # Output"
   ]
  },
  {
   "cell_type": "code",
   "execution_count": 12,
   "id": "3c73eb76",
   "metadata": {},
   "outputs": [
    {
     "name": "stdout",
     "output_type": "stream",
     "text": [
      "Epoch 1/20\n",
      "510/510 - 0s - loss: 480.6641\n",
      "Epoch 2/20\n",
      "510/510 - 1s - loss: 1.1689\n",
      "Epoch 3/20\n",
      "510/510 - 1s - loss: 0.0579\n",
      "Epoch 4/20\n",
      "510/510 - 1s - loss: 0.0209\n",
      "Epoch 5/20\n",
      "510/510 - 1s - loss: 0.0054\n",
      "Epoch 6/20\n",
      "510/510 - 1s - loss: 0.0017\n",
      "Epoch 7/20\n",
      "510/510 - 0s - loss: 7.4939e-04\n",
      "Epoch 8/20\n",
      "510/510 - 1s - loss: 5.8696e-04\n",
      "Epoch 9/20\n",
      "510/510 - 0s - loss: 5.7165e-04\n",
      "Epoch 10/20\n",
      "510/510 - 0s - loss: 5.4754e-04\n",
      "Epoch 11/20\n",
      "510/510 - 0s - loss: 5.2636e-04\n",
      "Epoch 12/20\n",
      "510/510 - 0s - loss: 5.1077e-04\n",
      "Epoch 13/20\n",
      "510/510 - 1s - loss: 5.0706e-04\n",
      "Epoch 14/20\n",
      "510/510 - 0s - loss: 5.0590e-04\n",
      "Epoch 15/20\n",
      "510/510 - 1s - loss: 5.0518e-04\n",
      "Epoch 16/20\n",
      "510/510 - 1s - loss: 5.0466e-04\n",
      "Epoch 17/20\n",
      "510/510 - 1s - loss: 5.0437e-04\n",
      "Epoch 18/20\n",
      "510/510 - 0s - loss: 5.0407e-04\n",
      "Epoch 19/20\n",
      "510/510 - 1s - loss: 5.0394e-04\n",
      "Epoch 20/20\n",
      "510/510 - 1s - loss: 5.0385e-04\n",
      "Model: \"sequential\"\n",
      "_________________________________________________________________\n",
      "Layer (type)                 Output Shape              Param #   \n",
      "=================================================================\n",
      "dense (Dense)                (None, 64)                2112      \n",
      "_________________________________________________________________\n",
      "dense_1 (Dense)              (None, 64)                4160      \n",
      "_________________________________________________________________\n",
      "dense_2 (Dense)              (None, 1958)              127270    \n",
      "=================================================================\n",
      "Total params: 133,542\n",
      "Trainable params: 133,542\n",
      "Non-trainable params: 0\n",
      "_________________________________________________________________\n"
     ]
    }
   ],
   "source": [
    "model.compile(loss='mean_squared_error', optimizer='adam')\n",
    "model.fit(X_train,y_train,verbose=2,epochs=20)\n",
    "model.summary()"
   ]
  },
  {
   "cell_type": "code",
   "execution_count": 13,
   "id": "af921a3b",
   "metadata": {},
   "outputs": [
    {
     "name": "stdout",
     "output_type": "stream",
     "text": [
      "Shape: (5440, 1958)\n",
      "Shape: (5440, 1958)\n"
     ]
    }
   ],
   "source": [
    "y_pred = model.predict(X_test)\n",
    "print(\"Shape: {}\".format(y_pred.shape))\n",
    "print(\"Shape: {}\".format(y_test.shape))"
   ]
  },
  {
   "cell_type": "code",
   "execution_count": 14,
   "id": "32e6cbb2",
   "metadata": {},
   "outputs": [
    {
     "name": "stdout",
     "output_type": "stream",
     "text": [
      "final RMSE = 0.024198184\n"
     ]
    }
   ],
   "source": [
    "print(\"final RMSE =\", np.sqrt(metrics.mean_squared_error(y_test, y_pred)))"
   ]
  }
 ],
 "metadata": {
  "kernelspec": {
   "display_name": "Python 3",
   "language": "python",
   "name": "python3"
  },
  "language_info": {
   "codemirror_mode": {
    "name": "ipython",
    "version": 3
   },
   "file_extension": ".py",
   "mimetype": "text/x-python",
   "name": "python",
   "nbconvert_exporter": "python",
   "pygments_lexer": "ipython3",
   "version": "3.8.8"
  }
 },
 "nbformat": 4,
 "nbformat_minor": 5
}
