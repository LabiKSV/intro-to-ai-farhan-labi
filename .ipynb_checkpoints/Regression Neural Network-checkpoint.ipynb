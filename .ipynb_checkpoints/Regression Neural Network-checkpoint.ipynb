{
 "cells": [
  {
   "cell_type": "code",
   "execution_count": 1,
   "id": "b900a152",
   "metadata": {},
   "outputs": [],
   "source": [
    "import pandas as pd\n",
    "import numpy as np\n",
    "from sklearn import metrics\n",
    "from sklearn.model_selection import train_test_split\n",
    "from sklearn.preprocessing import LabelEncoder\n",
    "import matplotlib.pyplot as plt\n",
    "from tensorflow.keras.models import Sequential\n",
    "from tensorflow.keras.layers import Dense\n",
    "from sklearn.preprocessing import StandardScaler \n",
    "from sklearn.preprocessing import OneHotEncoder"
   ]
  },
  {
   "cell_type": "code",
   "execution_count": 2,
   "id": "449376d2",
   "metadata": {},
   "outputs": [],
   "source": [
    "pd.set_option('display.max_rows', 50)\n",
    "pd.set_option('display.max_columns', 500)\n",
    "pd.set_option('display.width', 1000)"
   ]
  },
  {
   "cell_type": "code",
   "execution_count": 3,
   "id": "6f105b94",
   "metadata": {},
   "outputs": [],
   "source": [
    "df =  pd.read_csv('C:/Users/farha/Desktop/uni stage 3/Introduction to AI/COURSEWORK/Github/intro-to-ai-farhan-labi/covid_19_indonesia_time_series_all.csv')"
   ]
  },
  {
   "cell_type": "code",
   "execution_count": 4,
   "id": "5ff83132",
   "metadata": {},
   "outputs": [],
   "source": [
    "df_regression = df.copy()"
   ]
  },
  {
   "cell_type": "code",
   "execution_count": 5,
   "id": "783a78cd",
   "metadata": {},
   "outputs": [],
   "source": [
    "#Set date as index\n",
    "df_regression = df_regression.set_index('Date')"
   ]
  },
  {
   "cell_type": "code",
   "execution_count": 6,
   "id": "4b3a56e9",
   "metadata": {},
   "outputs": [],
   "source": [
    "#For the NA values that are in int columns, fill them with medians \n",
    "med_gf_nc = df_regression['Growth Factor of New Cases'].median()\n",
    "med_gf_nd = df_regression['Growth Factor of New Deaths'].median()\n",
    "med_tot_uv = df_regression['Total Urban Villages'].median()\n",
    "med_tot_rv = df_regression['Total Rural Villages'].median()\n",
    "med_tot_c = df_regression['Total Cities'].median()\n",
    "\n",
    "df_regression['Growth Factor of New Cases'] = df_regression['Growth Factor of New Cases'].fillna(med_gf_nc)\n",
    "\n",
    "df_regression['Growth Factor of New Deaths'] = df_regression['Growth Factor of New Deaths'].fillna(med_gf_nd)\n",
    "\n",
    "df_regression['Total Urban Villages'] = df_regression['Total Urban Villages'].fillna(med_tot_uv)\n",
    "\n",
    "df_regression['Total Rural Villages'] = df_regression['Total Rural Villages'].fillna(med_tot_rv)\n",
    "\n",
    "df_regression['Total Cities'] = df_regression['Total Cities'].fillna(med_tot_c)"
   ]
  },
  {
   "cell_type": "code",
   "execution_count": 7,
   "id": "ec7eeec7",
   "metadata": {},
   "outputs": [],
   "source": [
    "#We can drop the following columns, because either they are redundant, have nothing in them (all rows NA) or non relevant\n",
    "df_regression = df_regression.drop(columns=['City or Regency', 'Province', 'Island', 'Time Zone', 'Special Status', 'Location ISO Code',\n",
    "                                           'Location Level', 'Country', 'Continent', 'Location', 'Case Fatality Rate', 'Case Recovered Rate'])"
   ]
  },
  {
   "cell_type": "code",
   "execution_count": 8,
   "id": "2d9211d2",
   "metadata": {},
   "outputs": [
    {
     "name": "stdout",
     "output_type": "stream",
     "text": [
      "New Cases                        int64\n",
      "New Deaths                       int64\n",
      "New Recovered                    int64\n",
      "New Active Cases                 int64\n",
      "Total Cases                      int64\n",
      "Total Deaths                     int64\n",
      "Total Recovered                  int64\n",
      "Total Active Cases               int64\n",
      "Total Regencies                  int64\n",
      "Total Cities                   float64\n",
      "Total Districts                  int64\n",
      "Total Urban Villages           float64\n",
      "Total Rural Villages           float64\n",
      "Area (km2)                       int64\n",
      "Population                       int64\n",
      "Population Density             float64\n",
      "Longitude                      float64\n",
      "Latitude                       float64\n",
      "New Cases per Million          float64\n",
      "Total Cases per Million        float64\n",
      "New Deaths per Million         float64\n",
      "Total Deaths per Million       float64\n",
      "Total Deaths per 100rb         float64\n",
      "Growth Factor of New Cases     float64\n",
      "Growth Factor of New Deaths    float64\n",
      "dtype: object\n"
     ]
    }
   ],
   "source": [
    "#Check datatypes of all remaining columns in dataframe\n",
    "print(df_regression.dtypes)"
   ]
  },
  {
   "cell_type": "code",
   "execution_count": 9,
   "id": "583a0b71",
   "metadata": {},
   "outputs": [],
   "source": [
    "#Convert all columns to float32 unless it is float64 (for regression)\n",
    "#It is already float 64\n",
    "df_regression[['New Cases', 'New Deaths', 'New Recovered', 'New Active Cases', 'Total Cases',\n",
    "              'Total Deaths', 'Total Recovered', 'Total Active Cases',\n",
    "              'Total Regencies', 'Total Districts', 'Area (km2)', 'Population']] = df_regression[['New Cases', 'New Deaths', 'New Recovered', 'New Active Cases', 'Total Cases',\n",
    "              'Total Deaths', 'Total Recovered', 'Total Active Cases',\n",
    "              'Total Regencies', 'Total Districts', 'Area (km2)', 'Population']].astype('float32') "
   ]
  },
  {
   "cell_type": "code",
   "execution_count": 10,
   "id": "a07388e0",
   "metadata": {},
   "outputs": [],
   "source": [
    "#Remove outliers function\n",
    "def remove_outliers(df, name, sd):\n",
    "    drop_rows = df.index[(np.abs(df[name] - df[name].mean()) \n",
    "                          >= (sd * df[name].std()))]\n",
    "    df.drop(drop_rows, axis=0, inplace=True)"
   ]
  },
  {
   "cell_type": "code",
   "execution_count": 11,
   "id": "2e32d41d",
   "metadata": {},
   "outputs": [],
   "source": [
    "# Convert a Pandas dataframe to the x,y inputs that TensorFlow needs\n",
    "def to_xy(df, target):\n",
    "    result = []\n",
    "    for x in df.columns:\n",
    "        if x != target:\n",
    "            result.append(x)\n",
    "    # find out the type of the target column.\n",
    "    target_type = df[target].dtypes\n",
    "    target_type = target_type[0] if hasattr(\n",
    "        target_type, '__iter__') else target_type\n",
    "    # Encode to int for classification, float otherwise. TensorFlow likes 32 bits.\n",
    "    if target_type in (np.int64, np.int32):\n",
    "        # Classification\n",
    "        dummies = pd.get_dummies(df[target])\n",
    "        return df[result].values.astype(np.float32), dummies.values.astype(np.float32)\n",
    "    # Regression\n",
    "    return df[result].values.astype(np.float32), df[[target]].values.astype(np.float32)"
   ]
  },
  {
   "cell_type": "code",
   "execution_count": 12,
   "id": "ecf7f883",
   "metadata": {},
   "outputs": [],
   "source": [
    "remove_outliers(df_regression, 'New Active Cases', 2)\n",
    "X,y = to_xy(df_regression, 'New Active Cases')\n",
    "X_train, X_test, y_train, y_test = train_test_split(X, y, test_size=0.25, random_state=0)"
   ]
  },
  {
   "cell_type": "code",
   "execution_count": 13,
   "id": "09c0bb37",
   "metadata": {},
   "outputs": [],
   "source": [
    "sc_x = StandardScaler()\n",
    "sc_x.fit(X_train)\n",
    "#Transform x\n",
    "X_train= sc_x.transform(X_train)\n",
    "X_test = sc_x.transform(X_test)"
   ]
  },
  {
   "cell_type": "code",
   "execution_count": 14,
   "id": "6adb0e4d",
   "metadata": {},
   "outputs": [],
   "source": [
    "model = Sequential()\n",
    "model.add(Dense(1024, input_shape=X[1].shape, activation='relu')) # Hidden 1\n",
    "model.add(Dense(64, activation='relu')) #Hidden 2\n",
    "model.add(Dense(1)) # Output"
   ]
  },
  {
   "cell_type": "code",
   "execution_count": 15,
   "id": "3c73eb76",
   "metadata": {
    "scrolled": true
   },
   "outputs": [
    {
     "name": "stdout",
     "output_type": "stream",
     "text": [
      "Epoch 1/20\n",
      "372/372 - 1s - loss: 24919.2500\n",
      "Epoch 2/20\n",
      "372/372 - 1s - loss: 20834.5000\n",
      "Epoch 3/20\n",
      "372/372 - 1s - loss: 16070.2842\n",
      "Epoch 4/20\n",
      "372/372 - 1s - loss: 8617.9805\n",
      "Epoch 5/20\n",
      "372/372 - 1s - loss: 3590.9780\n",
      "Epoch 6/20\n",
      "372/372 - 1s - loss: 3487.4048\n",
      "Epoch 7/20\n",
      "372/372 - 1s - loss: 973.6600\n",
      "Epoch 8/20\n",
      "372/372 - 1s - loss: 4656.2729\n",
      "Epoch 9/20\n",
      "372/372 - 1s - loss: 1778.0035\n",
      "Epoch 10/20\n",
      "372/372 - 1s - loss: 986.6902\n",
      "Epoch 11/20\n",
      "372/372 - 1s - loss: 675.6410\n",
      "Epoch 12/20\n",
      "372/372 - 1s - loss: 1466.9075\n",
      "Epoch 13/20\n",
      "372/372 - 1s - loss: 1503.1104\n",
      "Epoch 14/20\n",
      "372/372 - 1s - loss: 1449.3735\n",
      "Epoch 15/20\n",
      "372/372 - 1s - loss: 4102.6743\n",
      "Epoch 16/20\n",
      "372/372 - 1s - loss: 1491.1611\n",
      "Epoch 17/20\n",
      "372/372 - 1s - loss: 979.1392\n",
      "Epoch 18/20\n",
      "372/372 - 1s - loss: 1321.4406\n",
      "Epoch 19/20\n",
      "372/372 - 1s - loss: 800.6574\n",
      "Epoch 20/20\n",
      "372/372 - 1s - loss: 765.3313\n",
      "Model: \"sequential\"\n",
      "_________________________________________________________________\n",
      "Layer (type)                 Output Shape              Param #   \n",
      "=================================================================\n",
      "dense (Dense)                (None, 1024)              25600     \n",
      "_________________________________________________________________\n",
      "dense_1 (Dense)              (None, 64)                65600     \n",
      "_________________________________________________________________\n",
      "dense_2 (Dense)              (None, 1)                 65        \n",
      "=================================================================\n",
      "Total params: 91,265\n",
      "Trainable params: 91,265\n",
      "Non-trainable params: 0\n",
      "_________________________________________________________________\n"
     ]
    }
   ],
   "source": [
    "model.compile(loss='mean_squared_error', optimizer='adam')\n",
    "model.fit(X_train,y_train,verbose=2,epochs=20)\n",
    "model.summary()"
   ]
  },
  {
   "cell_type": "code",
   "execution_count": 16,
   "id": "af921a3b",
   "metadata": {},
   "outputs": [
    {
     "name": "stdout",
     "output_type": "stream",
     "text": [
      "Shape: (3961, 1)\n",
      "Shape: (3961, 1)\n"
     ]
    }
   ],
   "source": [
    "y_pred = model.predict(X_test)\n",
    "print(\"Shape: {}\".format(y_pred.shape))\n",
    "print(\"Shape: {}\".format(y_test.shape))"
   ]
  },
  {
   "cell_type": "code",
   "execution_count": 17,
   "id": "32e6cbb2",
   "metadata": {},
   "outputs": [
    {
     "name": "stdout",
     "output_type": "stream",
     "text": [
      "final RMSE = 24.218184\n"
     ]
    }
   ],
   "source": [
    "print(\"final RMSE =\", np.sqrt(metrics.mean_squared_error(y_test, y_pred)))"
   ]
  },
  {
   "cell_type": "code",
   "execution_count": 18,
   "id": "7316dd64",
   "metadata": {},
   "outputs": [],
   "source": [
    "#Past this point is debug area"
   ]
  },
  {
   "cell_type": "code",
   "execution_count": 19,
   "id": "3fb09b09",
   "metadata": {},
   "outputs": [
    {
     "name": "stdout",
     "output_type": "stream",
     "text": [
      "float32\n",
      "float32\n",
      "float32\n",
      "float32\n"
     ]
    }
   ],
   "source": [
    "#Check type of x,y for debug\n",
    "print(X_test.dtype)\n",
    "print(X_train.dtype)\n",
    "print(y_train.dtype)\n",
    "print(y_test.dtype)"
   ]
  },
  {
   "cell_type": "code",
   "execution_count": 20,
   "id": "0d225bd7",
   "metadata": {
    "scrolled": true
   },
   "outputs": [
    {
     "name": "stdout",
     "output_type": "stream",
     "text": [
      "[[  -1.]\n",
      " [ -18.]\n",
      " [-148.]\n",
      " ...\n",
      " [   4.]\n",
      " [ -45.]\n",
      " [   2.]]\n",
      "[[ 4.9380813e+00]\n",
      " [-9.6187572e+00]\n",
      " [-1.5196219e+02]\n",
      " ...\n",
      " [-9.2907593e-02]\n",
      " [-2.8963123e+01]\n",
      " [ 5.5876946e+00]]\n"
     ]
    }
   ],
   "source": [
    "#Debug\n",
    "print(y_test)\n",
    "print(y_pred)"
   ]
  }
 ],
 "metadata": {
  "kernelspec": {
   "display_name": "Python 3",
   "language": "python",
   "name": "python3"
  },
  "language_info": {
   "codemirror_mode": {
    "name": "ipython",
    "version": 3
   },
   "file_extension": ".py",
   "mimetype": "text/x-python",
   "name": "python",
   "nbconvert_exporter": "python",
   "pygments_lexer": "ipython3",
   "version": "3.8.8"
  }
 },
 "nbformat": 4,
 "nbformat_minor": 5
}
