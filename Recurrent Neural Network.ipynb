{
 "cells": [
  {
   "cell_type": "code",
   "execution_count": 17,
   "id": "6a71a716",
   "metadata": {},
   "outputs": [],
   "source": [
    "import pandas as pd\n",
    "import numpy as np\n",
    "from sklearn import metrics\n",
    "from sklearn.model_selection import train_test_split\n",
    "from sklearn.preprocessing import LabelEncoder\n",
    "from sklearn.preprocessing import MinMaxScaler\n",
    "import matplotlib.pyplot as plt\n",
    "from tensorflow.keras.models import Sequential\n",
    "from tensorflow.keras.layers import Dense\n",
    "from tensorflow.keras.layers import LSTM"
   ]
  },
  {
   "cell_type": "code",
   "execution_count": 18,
   "id": "046ea049",
   "metadata": {},
   "outputs": [],
   "source": [
    "pd.set_option('display.max_rows', 50)\n",
    "pd.set_option('display.max_columns', 500)\n",
    "pd.set_option('display.width', 1000)"
   ]
  },
  {
   "cell_type": "code",
   "execution_count": 19,
   "id": "dd2bd25a",
   "metadata": {},
   "outputs": [],
   "source": [
    "df =  pd.read_csv('C:/Users/farha/Desktop/uni stage 3/Introduction to AI/COURSEWORK/Github/intro-to-ai-farhan-labi/covid_19_indonesia_time_series_all.csv')"
   ]
  },
  {
   "cell_type": "code",
   "execution_count": 20,
   "id": "b62a3251",
   "metadata": {},
   "outputs": [],
   "source": [
    "df_regression = df.copy()"
   ]
  },
  {
   "cell_type": "code",
   "execution_count": 21,
   "id": "de6c454a",
   "metadata": {},
   "outputs": [],
   "source": [
    "#For the NA values that are in int columns, fill them with medians \n",
    "med_gf_nc = df_regression['Growth Factor of New Cases'].median()\n",
    "med_gf_nd = df_regression['Growth Factor of New Deaths'].median()\n",
    "med_tot_uv = df_regression['Total Urban Villages'].median()\n",
    "med_tot_rv = df_regression['Total Rural Villages'].median()\n",
    "med_tot_c = df_regression['Total Cities'].median()\n",
    "\n",
    "df_regression['Growth Factor of New Cases'] = df_regression['Growth Factor of New Cases'].fillna(med_gf_nc)\n",
    "\n",
    "df_regression['Growth Factor of New Deaths'] = df_regression['Growth Factor of New Deaths'].fillna(med_gf_nd)\n",
    "\n",
    "df_regression['Total Urban Villages'] = df_regression['Total Urban Villages'].fillna(med_tot_uv)\n",
    "\n",
    "df_regression['Total Rural Villages'] = df_regression['Total Rural Villages'].fillna(med_tot_rv)\n",
    "\n",
    "df_regression['Total Cities'] = df_regression['Total Cities'].fillna(med_tot_c)"
   ]
  },
  {
   "cell_type": "code",
   "execution_count": 6,
   "id": "a9271c1c",
   "metadata": {},
   "outputs": [],
   "source": [
    "#Remove outliers function from exercises\n",
    "def remove_outliers(df, name, sd):\n",
    "    drop_rows = df.index[(np.abs(df[name] - df[name].mean()) \n",
    "                          >= (sd * df[name].std()))]\n",
    "    df.drop(drop_rows, axis=0, inplace=True)"
   ]
  },
  {
   "cell_type": "code",
   "execution_count": 7,
   "id": "b3fbbe83",
   "metadata": {},
   "outputs": [
    {
     "name": "stdout",
     "output_type": "stream",
     "text": [
      "Before: 21759\n",
      "After: 21085\n"
     ]
    }
   ],
   "source": [
    "#Removing outliers for new active cases\n",
    "print(\"Before: {}\".format(len(df_regression)))\n",
    "remove_outliers(df_regression, 'New Active Cases', 2)\n",
    "print(\"After: {}\".format(len(df_regression)))"
   ]
  },
  {
   "cell_type": "code",
   "execution_count": 11,
   "id": "6a3bc040",
   "metadata": {},
   "outputs": [],
   "source": [
    "#Encode\n",
    "for column in df_regression.columns:\n",
    "    df_regression[column] = LabelEncoder().fit(df_regression[column]).transform(df_regression[column])"
   ]
  },
  {
   "cell_type": "code",
   "execution_count": 13,
   "id": "41bd4332",
   "metadata": {},
   "outputs": [],
   "source": [
    "X = df_regression.drop(columns=['New Active Cases'])\n",
    "y = df_regression['New Active Cases']"
   ]
  },
  {
   "cell_type": "code",
   "execution_count": 14,
   "id": "643f92c4",
   "metadata": {},
   "outputs": [],
   "source": [
    "#Split\n",
    "X_train, X_test, y_train, y_test = train_test_split(X, y, test_size=0.25, random_state=0)"
   ]
  },
  {
   "cell_type": "code",
   "execution_count": 16,
   "id": "3f468a50",
   "metadata": {},
   "outputs": [],
   "source": [
    "#Normalize dataset using min max\n",
    "mms = MinMaxScaler(feature_range=(0,1))\n",
    "mms.fit(X_train)\n",
    "X_train = mms.transform(X_train)\n",
    "X_test = mms.transform(X_test)"
   ]
  },
  {
   "cell_type": "code",
   "execution_count": null,
   "id": "e0ff3071",
   "metadata": {},
   "outputs": [],
   "source": [
    "#Creating 3D input dataset\n",
    "#This is because LSTM takes a 3D input for back propagation \n"
   ]
  }
 ],
 "metadata": {
  "kernelspec": {
   "display_name": "Python 3",
   "language": "python",
   "name": "python3"
  },
  "language_info": {
   "codemirror_mode": {
    "name": "ipython",
    "version": 3
   },
   "file_extension": ".py",
   "mimetype": "text/x-python",
   "name": "python",
   "nbconvert_exporter": "python",
   "pygments_lexer": "ipython3",
   "version": "3.8.8"
  }
 },
 "nbformat": 4,
 "nbformat_minor": 5
}
